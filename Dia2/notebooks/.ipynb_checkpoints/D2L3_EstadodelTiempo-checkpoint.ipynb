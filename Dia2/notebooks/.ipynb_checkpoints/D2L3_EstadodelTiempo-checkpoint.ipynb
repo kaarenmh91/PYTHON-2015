{
 "cells": [
  {
   "cell_type": "markdown",
   "metadata": {},
   "source": [
    "# Dia 2, Libreta 3 Estado del tiempo\n",
    "A continuacion vamos a hacer un ejercicio de programacion con Python en la libreta y despues en el dispositivo. \n",
    "\n",
    "El objetivo de este ejercicio es solicitar la temperatura a un servicio en linea, [weatherunderground](http://www.wunderground.com) utilizando la API del servicio.\n",
    "\n",
    "## Buscando informacion en weather underground\n",
    "\n",
    "Abran el interprete de Python en su dispositivo y escriban lo siguiente:\n",
    "\n",
    "[vea](http://www.wunderground.com/weather/api/d/docs?d=data/index&MR=1)\n"
   ]
  },
  {
   "cell_type": "code",
   "execution_count": 1,
   "metadata": {
    "collapsed": false
   },
   "outputs": [
    {
     "name": "stdout",
     "output_type": "stream",
     "text": [
      "La temperatura actual en Mexico es: 64.0 F\n"
     ]
    }
   ],
   "source": [
    "import urllib2\n",
    "import json\n",
    "\n",
    "f = urllib2.urlopen('http://api.wunderground.com/api/0def10027afaebb7/geolookup/conditions/forecast/q/Mexico/Mexico.json')\n",
    "json_string = f.read()\n",
    "parsed_json = json.loads(json_string)\n",
    "location = parsed_json['location']['city']\n",
    "temp_f = parsed_json['current_observation']['temp_f']\n",
    "print \"La temperatura actual en %s es: %s F\" % (location, temp_f)\n",
    "f.close()"
   ]
  },
  {
   "cell_type": "markdown",
   "metadata": {},
   "source": [
    "# Ejercicio 1\n",
    "\n",
    "Modificar el codigo anterior para que la temperatura se imprima en grados Centigrados. _Sugerencia_: Vean el diccionario JSON que regresa el servicio: `parsed_json`"
   ]
  },
  {
   "cell_type": "markdown",
   "metadata": {},
   "source": [
    "A continuacion, copien las lineas de codigo a un archivo con extension `.py`. En las libretas es muy facil pues lo unico que tienen que hacer es agregar una instruccion `%%file _nombre_.py`, donde `_nombre_` es el nombre del archivo como quieren guardarlo:"
   ]
  },
  {
   "cell_type": "code",
   "execution_count": 2,
   "metadata": {
    "collapsed": false
   },
   "outputs": [
    {
     "name": "stdout",
     "output_type": "stream",
     "text": [
      "Overwriting tempMexicoF.py\n"
     ]
    }
   ],
   "source": [
    "%%file tempMexicoF.py\n",
    "import urllib2\n",
    "import json\n",
    "\n",
    "f = urllib2.urlopen('http://api.wunderground.com/api/0def10027afaebb7/geolookup/conditions/forecast/q/Mexico/Mexico.json')\n",
    "json_string = f.read()\n",
    "parsed_json = json.loads(json_string)\n",
    "location = parsed_json['location']['city']\n",
    "temp_f = parsed_json['current_observation']['temp_f']\n",
    "print \"La temperatura actual en %s es: %s F\" % (location, temp_f)\n",
    "f.close()"
   ]
  },
  {
   "cell_type": "markdown",
   "metadata": {},
   "source": [
    "Pueden verificar que el archivo efectivamente se guardo en su ruta local usando la instruccion `!dir`, la cual usa el comando del OS `dir` para listar los archivos en el folder actual"
   ]
  },
  {
   "cell_type": "code",
   "execution_count": 4,
   "metadata": {
    "collapsed": false
   },
   "outputs": [
    {
     "name": "stdout",
     "output_type": "stream",
     "text": [
      " El volumen de la unidad C no tiene etiqueta.\n",
      " El n£mero de serie del volumen es: BCC8-1217\n",
      "\n",
      " Directorio de C:\\Users\\KMENDEZ.SEFIPLAN\\Documents\\MAESTRIA\\APLICACIONES MOVILES ANDROIDPYTHON\\lania.ipython\\Dia2\\notebooks\n",
      "\n",
      "11/11/2015  06:46 p.m.    <DIR>          .\n",
      "11/11/2015  06:46 p.m.    <DIR>          ..\n",
      "11/11/2015  06:18 p.m.    <DIR>          .ipynb_checkpoints\n",
      "09/11/2015  08:27 a.m.               525 acelerometro.py\n",
      "24/10/2015  12:41 p.m.             1,766 android.py\n",
      "24/10/2015  01:03 p.m.             1,821 android.pyc\n",
      "09/11/2015  08:27 a.m.            60,541 carota.jpg\n",
      "11/11/2015  09:49 a.m.             4,585 D2L1_Recap.ipynb\n",
      "11/11/2015  10:04 a.m.             5,636 D2L2_Interactuando_con_dispositivo.ipynb\n",
      "11/11/2015  06:21 p.m.             5,721 D2L3_EstadodelTiempo.ipynb\n",
      "11/11/2015  06:46 p.m.            17,615 D2L4_Sensores.ipynb\n",
      "09/11/2015  08:27 a.m.            16,561 D2L5_acelerometro.ipynb\n",
      "09/11/2015  08:27 a.m.           162,001 D2L6_Detectando_rostros.ipynb\n",
      "09/11/2015  08:27 a.m.         1,637,081 D2Ln_InputOutputPython.ipynb\n",
      "09/11/2015  08:27 a.m.             4,794 D2S1L02_Adquiriendo_datos_gps.ipynb\n",
      "09/11/2015  08:27 a.m.           963,439 haarcascade_frontalface_default.xml\n",
      "09/11/2015  08:27 a.m.         1,758,383 maps.html\n",
      "09/11/2015  08:27 a.m.               546 tempMexicoCToastAndDialog.py\n",
      "12/11/2015  08:28 a.m.               393 tempMexicoF.py\n",
      "09/11/2015  08:27 a.m.    <DIR>          Tutoriales\n",
      "09/11/2015  08:27 a.m.             2,472 Untitled.ipynb\n",
      "09/11/2015  08:27 a.m.            70,995 ZuzanaB.jpg\n",
      "              18 archivos      4,714,875 bytes\n",
      "               4 dirs  805,759,193,088 bytes libres\n"
     ]
    }
   ],
   "source": [
    "!dir"
   ]
  },
  {
   "cell_type": "markdown",
   "metadata": {},
   "source": [
    "Ahora copien el script al dispositivo."
   ]
  },
  {
   "cell_type": "code",
   "execution_count": 5,
   "metadata": {
    "collapsed": false
   },
   "outputs": [
    {
     "name": "stderr",
     "output_type": "stream",
     "text": [
      "30 KB/s (393 bytes in 0.012s)\n"
     ]
    }
   ],
   "source": [
    "!adb push tempMexicoF.py /sdcard/sl4a/scripts"
   ]
  },
  {
   "cell_type": "markdown",
   "metadata": {},
   "source": [
    "Revisen su dispositivo, en la lista de scripts deben encontrar el archivo que acaban de copiar. Ejecutenlo y observen lo que ocurre.\n",
    "\n",
    "# Ejercicio 2\n",
    "\n",
    "Modificar el script anterior para que la temperatura se despliegue en la pantalla del dispositivo usando primero el metodo `makeToast` y despues una GUI. **NOTA:** usen la informacion de referencia de la APIA: [API Reference](https://github.com/damonkohler/sl4a/blob/wiki/ApiReference.md)"
   ]
  }
 ],
 "metadata": {
  "kernelspec": {
   "display_name": "Python 2",
   "language": "python",
   "name": "python2"
  },
  "language_info": {
   "codemirror_mode": {
    "name": "ipython",
    "version": 2
   },
   "file_extension": ".py",
   "mimetype": "text/x-python",
   "name": "python",
   "nbconvert_exporter": "python",
   "pygments_lexer": "ipython2",
   "version": "2.7.10"
  }
 },
 "nbformat": 4,
 "nbformat_minor": 0
}
