{
 "cells": [
  {
   "cell_type": "markdown",
   "metadata": {},
   "source": [
    "# Dia 2, Libreta 5 acelerometro\n",
    "\n",
    "En esta libreta accederemos a los datos de su acelerometro. Nuevamente importen el modulo y creen un objeto `android`."
   ]
  },
  {
   "cell_type": "code",
   "execution_count": 104,
   "metadata": {
    "collapsed": false
   },
   "outputs": [
    {
     "name": "stdout",
     "output_type": "stream",
     "text": [
      "Overwriting AcelerometroClase.py\n"
     ]
    }
   ],
   "source": [
    "%%file AcelerometroClase.py\n",
    "import android\n",
    "droide=android.Android()\n",
    "# 100ms entre lecturas\n",
    "dt = 100\n",
    "# duracion de la muestras\n",
    "fin = 30000\n",
    "\n",
    "nombreArchivo=droide.dialogGetInput(\"Hola!\",\"Como se llamara el archivo?\")\n",
    "\n",
    "tiempo = 0\n",
    "droide.startSensingTimed(2,dt)\n",
    "\n",
    "droide.sensorsReadAccelerometer()\n",
    "\n",
    "lecturas = []\n",
    "\n",
    "import time\n",
    "while tiempo <= fin:\n",
    "    lecturas.append(droide.sensorsReadAccelerometer().result)\n",
    "    time.sleep(dt/1000.0)\n",
    "    tiempo += dt\n",
    "    \n",
    "droide.stopSensing();\n",
    "\n",
    "import csv\n",
    "\n",
    "\n",
    "\n",
    "with open (nombreArchivo.result+'.csv','w') as fp:\n",
    "    a=csv.writer(fp,delimiter=',')\n",
    "    a.writerows(lecturas)\n",
    "\n"
   ]
  },
  {
   "cell_type": "markdown",
   "metadata": {},
   "source": [
    "# Sentencia que copia el archivo a el telefono"
   ]
  },
  {
   "cell_type": "code",
   "execution_count": 105,
   "metadata": {
    "collapsed": false
   },
   "outputs": [
    {
     "name": "stderr",
     "output_type": "stream",
     "text": [
      "65 KB/s (603 bytes in 0.009s)\n"
     ]
    }
   ],
   "source": [
    "!adb push AcelerometroClase.py /sdcard/sl4a/scripts"
   ]
  },
  {
   "cell_type": "markdown",
   "metadata": {},
   "source": [
    "# Sentencia que guarda del celular a la computadora de escritorio"
   ]
  },
  {
   "cell_type": "code",
   "execution_count": 106,
   "metadata": {
    "collapsed": false
   },
   "outputs": [
    {
     "name": "stderr",
     "output_type": "stream",
     "text": [
      "481 KB/s (15783 bytes in 0.032s)\n"
     ]
    }
   ],
   "source": [
    "!adb pull /sdcard/sl4a/run.csv"
   ]
  },
  {
   "cell_type": "markdown",
   "metadata": {},
   "source": [
    "leer datos del archivo que se acaba de subir"
   ]
  },
  {
   "cell_type": "code",
   "execution_count": 107,
   "metadata": {
    "collapsed": false
   },
   "outputs": [],
   "source": [
    "df=pd.read_csv('run.csv',header=0)"
   ]
  },
  {
   "cell_type": "code",
   "execution_count": 108,
   "metadata": {
    "collapsed": true
   },
   "outputs": [],
   "source": [
    "import pandas as pd\n",
    "%matplotlib inline"
   ]
  },
  {
   "cell_type": "code",
   "execution_count": 109,
   "metadata": {
    "collapsed": true
   },
   "outputs": [],
   "source": [
    "df = pd.DataFrame(lecturas, columns=['x','y','z'])"
   ]
  },
  {
   "cell_type": "code",
   "execution_count": 110,
   "metadata": {
    "collapsed": false
   },
   "outputs": [
    {
     "name": "stdout",
     "output_type": "stream",
     "text": [
      "<class 'pandas.core.frame.DataFrame'>\n",
      "Int64Index: 31 entries, 0 to 30\n",
      "Data columns (total 3 columns):\n",
      "x    31 non-null float64\n",
      "y    31 non-null float64\n",
      "z    31 non-null float64\n",
      "dtypes: float64(3)\n",
      "memory usage: 992.0 bytes\n"
     ]
    }
   ],
   "source": [
    "df.info()"
   ]
  },
  {
   "cell_type": "code",
   "execution_count": 111,
   "metadata": {
    "collapsed": false
   },
   "outputs": [
    {
     "data": {
      "text/plain": [
       "<matplotlib.axes._subplots.AxesSubplot at 0xe7c4780>"
      ]
     },
     "execution_count": 111,
     "metadata": {},
     "output_type": "execute_result"
    },
    {
     "data": {
      "image/png": "[encoded data removed]",
      "text/plain": [
       "<matplotlib.figure.Figure at 0xcebee10>"
      ]
     },
     "metadata": {},
     "output_type": "display_data"
    }
   ],
   "source": [
    "df.plot()"
   ]
  },
  {
   "cell_type": "code",
   "execution_count": null,
   "metadata": {
    "collapsed": true
   },
   "outputs": [],
   "source": []
  },
  {
   "cell_type": "code",
   "execution_count": null,
   "metadata": {
    "collapsed": true
   },
   "outputs": [],
   "source": [
    "# %load datos.csv\n",
    "-0.05626374,0.8379706,10.126875\n",
    "\n",
    "-0.037110128,0.8283938,10.078392\n",
    "\n",
    "-0.051475335,0.8265981,10.092757\n",
    "\n",
    "-0.049081136,0.83138657,10.085575\n",
    "\n",
    "-0.04129998,0.82719666,10.102933\n",
    "\n",
    "-0.049081136,0.82599956,10.044873\n",
    "\n",
    "-0.05566519,0.8182184,10.0748005\n",
    "\n",
    "-0.06703765,0.8283938,10.090961\n",
    "\n",
    "-0.06823475,0.8283938,10.038888\n",
    "\n",
    "-0.038307227,0.82360536,10.094553\n",
    "\n",
    "-0.05207389,0.8511387,10.068216\n",
    "\n",
    "-0.049081136,0.8415619,10.085575\n",
    "\n",
    "-0.07062895,0.8206126,10.06283\n",
    "\n",
    "-0.05805939,0.8379706,10.096947\n",
    "\n",
    "-0.06823475,0.8403648,10.081385\n",
    "\n",
    "-0.05865794,0.82001406,10.084976\n",
    "\n",
    "-0.04369418,0.8170213,10.075998\n",
    "\n",
    "-0.049081136,0.82001406,10.060435\n",
    "\n",
    "-0.038307227,0.8283938,10.110115\n",
    "\n",
    "-0.040102877,0.82001406,10.070611\n",
    "\n",
    "-0.044891283,0.82779527,10.029909\n",
    "\n",
    "-0.046088383,0.82480246,10.09575\n",
    "\n",
    "-0.06584055,0.8230068,10.071808\n",
    "\n",
    "-0.050278235,0.8182184,10.075998\n",
    "\n",
    "-0.051475335,0.825401,10.070611\n",
    "\n",
    "-0.050278235,0.8391677,10.065224\n",
    "\n",
    "-0.046686932,0.84934306,10.080787\n",
    "\n",
    "-0.034715924,0.84455466,10.075399\n",
    "\n",
    "-0.049679685,0.84096336,10.086772\n",
    "\n",
    "-0.0664391,0.83976626,10.0748005\n",
    "\n",
    "-0.06703765,0.82779527,10.083779\n",
    "\n"
   ]
  },
  {
   "cell_type": "code",
   "execution_count": 26,
   "metadata": {
    "collapsed": false
   },
   "outputs": [
    {
     "data": {
      "text/plain": [
       "Result(id=35, result=None, error=None)"
      ]
     },
     "execution_count": 26,
     "metadata": {},
     "output_type": "execute_result"
    }
   ],
   "source": [
    "droide.ttsSpeak(\"hola bato\")"
   ]
  },
  {
   "cell_type": "code",
   "execution_count": 47,
   "metadata": {
    "collapsed": true
   },
   "outputs": [],
   "source": [
    "# 100ms entre lecturas\n",
    "dt = 100\n",
    "# duracion de la muestras\n",
    "fin = 3000"
   ]
  },
  {
   "cell_type": "markdown",
   "metadata": {},
   "source": [
    "Inicializamos el tiempo de censado e iniciamos censado en el dispositivo"
   ]
  },
  {
   "cell_type": "code",
   "execution_count": 48,
   "metadata": {
    "collapsed": false
   },
   "outputs": [
    {
     "data": {
      "text/plain": [
       "Result(id=71, result=None, error=None)"
      ]
     },
     "execution_count": 48,
     "metadata": {},
     "output_type": "execute_result"
    }
   ],
   "source": [
    "tiempo = 0\n",
    "droide.startSensingTimed(2,dt)"
   ]
  },
  {
   "cell_type": "markdown",
   "metadata": {},
   "source": [
    "La siguiente instruccion regresa los valores de la lectura del acelerometro:"
   ]
  },
  {
   "cell_type": "code",
   "execution_count": 49,
   "metadata": {
    "collapsed": false
   },
   "outputs": [
    {
     "data": {
      "text/plain": [
       "Result(id=72, result=[-0.040102877, 0.82899237, 10.086173], error=None)"
      ]
     },
     "execution_count": 49,
     "metadata": {},
     "output_type": "execute_result"
    }
   ],
   "source": [
    "droide.sensorsReadAccelerometer()"
   ]
  },
  {
   "cell_type": "markdown",
   "metadata": {},
   "source": [
    "Guardaremos estas lecturas en una variable que contendra los datos"
   ]
  },
  {
   "cell_type": "code",
   "execution_count": 50,
   "metadata": {
    "collapsed": true
   },
   "outputs": [],
   "source": [
    "lecturas = []"
   ]
  },
  {
   "cell_type": "markdown",
   "metadata": {},
   "source": [
    "Ahora censamos hasta que el tiempo alcance el tiempo de sensado"
   ]
  },
  {
   "cell_type": "code",
   "execution_count": 51,
   "metadata": {
    "collapsed": false
   },
   "outputs": [],
   "source": [
    "import time\n",
    "while tiempo <= fin:\n",
    "    lecturas.append(droide.sensorsReadAccelerometer().result)\n",
    "    time.sleep(dt/1000.0)\n",
    "    tiempo += dt\n",
    "    \n",
    "droide.stopSensing();"
   ]
  },
  {
   "cell_type": "code",
   "execution_count": 52,
   "metadata": {
    "collapsed": false
   },
   "outputs": [
    {
     "data": {
      "text/plain": [
       "[[-0.048482586, 0.83617496, 10.077195],\n",
       " [-0.060453594, 0.83737206, 10.084976],\n",
       " [-0.051475335, 0.801459, 10.089765],\n",
       " [-0.05267244, 0.81642276, 10.09575],\n",
       " [-0.05805939, 0.8499416, 10.071808],\n",
       " [-0.05327099, 0.8355764, 10.065823],\n",
       " [-0.061650693, 0.8343793, 10.070012],\n",
       " [-0.05566519, 0.830788, 10.072407],\n",
       " [-0.032920275, 0.82480246, 10.069414],\n",
       " [-0.062249243, 0.8487445, 10.075998],\n",
       " [-0.049679685, 0.8451532, 10.077195],\n",
       " [-0.05626374, 0.830788, 10.07121],\n",
       " [-0.044891283, 0.83138657, 10.085575],\n",
       " [-0.073023155, 0.8242039, 10.040085],\n",
       " [-0.035314474, 0.84455466, 10.090961],\n",
       " [-0.05626374, 0.8379706, 10.058042],\n",
       " [-0.046686932, 0.83856916, 10.080787],\n",
       " [-0.047884032, 0.83976626, 10.081984],\n",
       " [-0.05746084, 0.8206126, 10.072407],\n",
       " [-0.05686229, 0.830788, 10.102933],\n",
       " [-0.050876785, 0.85173726, 10.087969],\n",
       " [-0.05925649, 0.84694886, 10.060435],\n",
       " [-0.040102877, 0.83737206, 10.073005],\n",
       " [-0.05267244, 0.8265981, 10.05445],\n",
       " [-0.044292733, 0.83617496, 10.076596],\n",
       " [-0.054468088, 0.83138657, 10.059837],\n",
       " [-0.061650693, 0.8319851, 10.0664215],\n",
       " [-0.06344634, 0.8379706, 10.068216],\n",
       " [-0.053869538, 0.825401, 10.1065235],\n",
       " [-0.07062895, 0.84934306, 10.07121],\n",
       " [-0.05566519, 0.84096336, 10.0825815]]"
      ]
     },
     "execution_count": 52,
     "metadata": {},
     "output_type": "execute_result"
    }
   ],
   "source": [
    "lecturas"
   ]
  },
  {
   "cell_type": "code",
   "execution_count": 53,
   "metadata": {
    "collapsed": true
   },
   "outputs": [],
   "source": [
    "import csv"
   ]
  },
  {
   "cell_type": "code",
   "execution_count": 54,
   "metadata": {
    "collapsed": false
   },
   "outputs": [],
   "source": [
    "nombreArchivo=droide.dialogGetInput(\"Hola!\",\"Como se llamara el archivo?\")"
   ]
  },
  {
   "cell_type": "code",
   "execution_count": 55,
   "metadata": {
    "collapsed": false
   },
   "outputs": [],
   "source": [
    "with open (nombreArchivo.result +'.csv','w') as fp:\n",
    "    a=csv.writer(fp,delimiter=',')\n",
    "    a.writerows(lecturas)"
   ]
  },
  {
   "cell_type": "code",
   "execution_count": 56,
   "metadata": {
    "collapsed": false
   },
   "outputs": [
    {
     "ename": "NameError",
     "evalue": "name 'karen' is not defined",
     "output_type": "error",
     "traceback": [
      "\u001b[1;31m---------------------------------------------------------------------------\u001b[0m",
      "\u001b[1;31mNameError\u001b[0m                                 Traceback (most recent call last)",
      "\u001b[1;32m<ipython-input-56-c848bd54459e>\u001b[0m in \u001b[0;36m<module>\u001b[1;34m()\u001b[0m\n\u001b[0;32m      1\u001b[0m \u001b[1;31m# %load nombreArchivo.result+'.csv'\u001b[0m\u001b[1;33m\u001b[0m\u001b[1;33m\u001b[0m\u001b[0m\n\u001b[1;32m----> 2\u001b[1;33m \u001b[0mkaren\u001b[0m\u001b[1;33m.\u001b[0m\u001b[0mcsv\u001b[0m\u001b[1;33m\u001b[0m\u001b[0m\n\u001b[0m",
      "\u001b[1;31mNameError\u001b[0m: name 'karen' is not defined"
     ]
    }
   ],
   "source": [
    "# %load nombreArchivo.result+'.csv'\n",
    "karen.csv"
   ]
  },
  {
   "cell_type": "code",
   "execution_count": 35,
   "metadata": {
    "collapsed": true
   },
   "outputs": [],
   "source": [
    "import pandas as pd\n",
    "%matplotlib inline"
   ]
  },
  {
   "cell_type": "code",
   "execution_count": 36,
   "metadata": {
    "collapsed": false
   },
   "outputs": [],
   "source": [
    "df = pd.DataFrame(lecturas, columns=['x','y','z'])"
   ]
  },
  {
   "cell_type": "code",
   "execution_count": 37,
   "metadata": {
    "collapsed": false
   },
   "outputs": [
    {
     "name": "stdout",
     "output_type": "stream",
     "text": [
      "<class 'pandas.core.frame.DataFrame'>\n",
      "Int64Index: 31 entries, 0 to 30\n",
      "Data columns (total 3 columns):\n",
      "x    31 non-null float64\n",
      "y    31 non-null float64\n",
      "z    31 non-null float64\n",
      "dtypes: float64(3)\n",
      "memory usage: 992.0 bytes\n"
     ]
    }
   ],
   "source": [
    "df.info()"
   ]
  },
  {
   "cell_type": "code",
   "execution_count": 38,
   "metadata": {
    "collapsed": false
   },
   "outputs": [
    {
     "data": {
      "text/plain": [
       "<matplotlib.axes._subplots.AxesSubplot at 0xb27f7f0>"
      ]
     },
     "execution_count": 38,
     "metadata": {},
     "output_type": "execute_result"
    },
    {
     "data": {
      "image/png": "[encoded data removed]",
      "text/plain": [
       "<matplotlib.figure.Figure at 0xc91b630>"
      ]
     },
     "metadata": {},
     "output_type": "display_data"
    }
   ],
   "source": [
    "df.plot()"
   ]
  },
  {
   "cell_type": "markdown",
   "metadata": {},
   "source": [
    "# Ejercicio\n",
    "\n",
    "Escriban un script que lleve a cabo unicamente la lectura de los datos del acelerometro de su dispositivo y copienlo en el folder correspondiente para ejecutarlo desde sus dispositivos."
   ]
  }
 ],
 "metadata": {
  "kernelspec": {
   "display_name": "Python 2",
   "language": "python",
   "name": "python2"
  },
  "language_info": {
   "codemirror_mode": {
    "name": "ipython",
    "version": 2
   },
   "file_extension": ".py",
   "mimetype": "text/x-python",
   "name": "python",
   "nbconvert_exporter": "python",
   "pygments_lexer": "ipython2",
   "version": "2.7.10"
  }
 },
 "nbformat": 4,
 "nbformat_minor": 0
}
